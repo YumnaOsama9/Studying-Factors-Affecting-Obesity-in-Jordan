{
  "nbformat": 4,
  "nbformat_minor": 0,
  "metadata": {
    "colab": {
      "provenance": []
    },
    "kernelspec": {
      "name": "python3",
      "display_name": "Python 3"
    },
    "language_info": {
      "name": "python"
    }
  },
  "cells": [
    {
      "cell_type": "code",
      "execution_count": null,
      "metadata": {
        "id": "FKE9pp6HwEYQ"
      },
      "outputs": [],
      "source": [
        "import pandas as pd"
      ]
    },
    {
      "cell_type": "code",
      "source": [
        "df_ = pd.read_excel('/content/Obesity_2024.xlsx', header = 1)"
      ],
      "metadata": {
        "id": "s4sh14L-47lC"
      },
      "execution_count": null,
      "outputs": []
    },
    {
      "cell_type": "code",
      "source": [
        "df = df_.iloc[:999,:]\n",
        "df.head()"
      ],
      "metadata": {
        "colab": {
          "base_uri": "https://localhost:8080/",
          "height": 895
        },
        "id": "FibM2hG647oq",
        "outputId": "c9826cbd-f4ab-446f-cce3-a5252c63819c"
      },
      "execution_count": null,
      "outputs": [
        {
          "output_type": "execute_result",
          "data": {
            "text/plain": [
              "   Gender   Age family_history_with_overweight  \\\n",
              "0  Female  21.0                            yes   \n",
              "1  Female  21.0                            yes   \n",
              "2    Male  23.0                            yes   \n",
              "3    Male  27.0                             no   \n",
              "4    Male  22.0                             no   \n",
              "\n",
              "  Do you eat any food between meals SMOKE  \\\n",
              "0                                no    no   \n",
              "1                                no   yes   \n",
              "2                                no    no   \n",
              "3                                no    no   \n",
              "4                                no    no   \n",
              "\n",
              "  Which transportation do you usually use?   City  \\\n",
              "0                    Public_Transportation  Aqaba   \n",
              "1                    Public_Transportation  Aqaba   \n",
              "2                    Public_Transportation  Aqaba   \n",
              "3                                  Walking  Irbid   \n",
              "4                    Public_Transportation  Aqaba   \n",
              "\n",
              "   How often do you have physical activity?  \\\n",
              "0                                       0.0   \n",
              "1                                       3.0   \n",
              "2                                       2.0   \n",
              "3                                       2.0   \n",
              "4                                       0.0   \n",
              "\n",
              "  In the past 7 days, how many times did you eat breakfast?  \\\n",
              "0                                            5 times          \n",
              "1                                       6 or 7 times          \n",
              "2                                       6 or 7 times          \n",
              "3                                            2 times          \n",
              "4                                       6 or 7 times          \n",
              "\n",
              "  On an average week, how many times do you consume whole grain products? (e.g., whole grain bread, whole grain cereal, brown rice or whole wheat pasta  \\\n",
              "0                                              Never                                                                                                      \n",
              "1                                            3 times                                                                                                      \n",
              "2                                             1 time                                                                                                      \n",
              "3                                              Never                                                                                                      \n",
              "4                                            2 times                                                                                                      \n",
              "\n",
              "   ... e. Cough or snore loudly       f. Feel too cold        g. Feel too hot  \\\n",
              "0  ...    Not during past month  Not during past month  Not during past month   \n",
              "1  ...    Not during past month  Not during past month   Once or twice a week   \n",
              "2  ...    Not during past month  Not during past month  Not during past month   \n",
              "3  ...    Less than once a week  Not during past month  Not during past month   \n",
              "4  ...    Not during past month  Not during past month  Not during past month   \n",
              "\n",
              "      h. Have bad dreams           i. Have pain  \\\n",
              "0  Not during past month  Not during past month   \n",
              "1  Not during past month  Not during past month   \n",
              "2  Not during past month  Not during past month   \n",
              "3  Less than once a week  Less than once a week   \n",
              "4  Not during past month  Not during past month   \n",
              "\n",
              "   During the past month, how often have you taken medicine to help you sleep  \\\n",
              "0                              Less than once a week                            \n",
              "1                              Less than once a week                            \n",
              "2                              Less than once a week                            \n",
              "3                              Less than once a week                            \n",
              "4                             Not during past month                             \n",
              "\n",
              "   During the past month, how often have you had trouble staying awake while driving, eating meals, or engaging in social activity?  \\\n",
              "0                             Not during past month                                                                                   \n",
              "1                             Not during past month                                                                                   \n",
              "2                             Not during past month                                                                                   \n",
              "3                             Not during past month                                                                                   \n",
              "4                             Not during past month                                                                                   \n",
              "\n",
              "   During the past month, how much of a problem has it been for you to keep up enough enthusiasm to get things done?  \\\n",
              "0                                  No problem at all                                                                   \n",
              "1                                  No problem at all                                                                   \n",
              "2                                  No problem at all                                                                   \n",
              "3                                  No problem at all                                                                   \n",
              "4                              Somewhat of a problem                                                                   \n",
              "\n",
              "   During the past month, how would you rate your sleep quality overall?  \\\n",
              "0                                          Very good                       \n",
              "1                                         Fairly bad                       \n",
              "2                                        Fairly good                       \n",
              "3                                          Very good                       \n",
              "4                                         Fairly bad                       \n",
              "\n",
              "     Obesity Indicator  \n",
              "0        Normal_Weight  \n",
              "1        Normal_Weight  \n",
              "2        Normal_Weight  \n",
              "3   Overweight_Level_I  \n",
              "4  Overweight_Level_II  \n",
              "\n",
              "[5 rows x 47 columns]"
            ],
            "text/html": [
              "\n",
              "  <div id=\"df-c93790a9-cff8-4687-8191-202ea7a06a65\" class=\"colab-df-container\">\n",
              "    <div>\n",
              "<style scoped>\n",
              "    .dataframe tbody tr th:only-of-type {\n",
              "        vertical-align: middle;\n",
              "    }\n",
              "\n",
              "    .dataframe tbody tr th {\n",
              "        vertical-align: top;\n",
              "    }\n",
              "\n",
              "    .dataframe thead th {\n",
              "        text-align: right;\n",
              "    }\n",
              "</style>\n",
              "<table border=\"1\" class=\"dataframe\">\n",
              "  <thead>\n",
              "    <tr style=\"text-align: right;\">\n",
              "      <th></th>\n",
              "      <th>Gender</th>\n",
              "      <th>Age</th>\n",
              "      <th>family_history_with_overweight</th>\n",
              "      <th>Do you eat any food between meals</th>\n",
              "      <th>SMOKE</th>\n",
              "      <th>Which transportation do you usually use?</th>\n",
              "      <th>City</th>\n",
              "      <th>How often do you have physical activity?</th>\n",
              "      <th>In the past 7 days, how many times did you eat breakfast?</th>\n",
              "      <th>On an average week, how many times do you consume whole grain products? (e.g., whole grain bread, whole grain cereal, brown rice or whole wheat pasta</th>\n",
              "      <th>...</th>\n",
              "      <th>e. Cough or snore loudly</th>\n",
              "      <th>f. Feel too cold</th>\n",
              "      <th>g. Feel too hot</th>\n",
              "      <th>h. Have bad dreams</th>\n",
              "      <th>i. Have pain</th>\n",
              "      <th>During the past month, how often have you taken medicine to help you sleep</th>\n",
              "      <th>During the past month, how often have you had trouble staying awake while driving, eating meals, or engaging in social activity?</th>\n",
              "      <th>During the past month, how much of a problem has it been for you to keep up enough enthusiasm to get things done?</th>\n",
              "      <th>During the past month, how would you rate your sleep quality overall?</th>\n",
              "      <th>Obesity Indicator</th>\n",
              "    </tr>\n",
              "  </thead>\n",
              "  <tbody>\n",
              "    <tr>\n",
              "      <th>0</th>\n",
              "      <td>Female</td>\n",
              "      <td>21.0</td>\n",
              "      <td>yes</td>\n",
              "      <td>no</td>\n",
              "      <td>no</td>\n",
              "      <td>Public_Transportation</td>\n",
              "      <td>Aqaba</td>\n",
              "      <td>0.0</td>\n",
              "      <td>5 times</td>\n",
              "      <td>Never</td>\n",
              "      <td>...</td>\n",
              "      <td>Not during past month</td>\n",
              "      <td>Not during past month</td>\n",
              "      <td>Not during past month</td>\n",
              "      <td>Not during past month</td>\n",
              "      <td>Not during past month</td>\n",
              "      <td>Less than once a week</td>\n",
              "      <td>Not during past month</td>\n",
              "      <td>No problem at all</td>\n",
              "      <td>Very good</td>\n",
              "      <td>Normal_Weight</td>\n",
              "    </tr>\n",
              "    <tr>\n",
              "      <th>1</th>\n",
              "      <td>Female</td>\n",
              "      <td>21.0</td>\n",
              "      <td>yes</td>\n",
              "      <td>no</td>\n",
              "      <td>yes</td>\n",
              "      <td>Public_Transportation</td>\n",
              "      <td>Aqaba</td>\n",
              "      <td>3.0</td>\n",
              "      <td>6 or 7 times</td>\n",
              "      <td>3 times</td>\n",
              "      <td>...</td>\n",
              "      <td>Not during past month</td>\n",
              "      <td>Not during past month</td>\n",
              "      <td>Once or twice a week</td>\n",
              "      <td>Not during past month</td>\n",
              "      <td>Not during past month</td>\n",
              "      <td>Less than once a week</td>\n",
              "      <td>Not during past month</td>\n",
              "      <td>No problem at all</td>\n",
              "      <td>Fairly bad</td>\n",
              "      <td>Normal_Weight</td>\n",
              "    </tr>\n",
              "    <tr>\n",
              "      <th>2</th>\n",
              "      <td>Male</td>\n",
              "      <td>23.0</td>\n",
              "      <td>yes</td>\n",
              "      <td>no</td>\n",
              "      <td>no</td>\n",
              "      <td>Public_Transportation</td>\n",
              "      <td>Aqaba</td>\n",
              "      <td>2.0</td>\n",
              "      <td>6 or 7 times</td>\n",
              "      <td>1 time</td>\n",
              "      <td>...</td>\n",
              "      <td>Not during past month</td>\n",
              "      <td>Not during past month</td>\n",
              "      <td>Not during past month</td>\n",
              "      <td>Not during past month</td>\n",
              "      <td>Not during past month</td>\n",
              "      <td>Less than once a week</td>\n",
              "      <td>Not during past month</td>\n",
              "      <td>No problem at all</td>\n",
              "      <td>Fairly good</td>\n",
              "      <td>Normal_Weight</td>\n",
              "    </tr>\n",
              "    <tr>\n",
              "      <th>3</th>\n",
              "      <td>Male</td>\n",
              "      <td>27.0</td>\n",
              "      <td>no</td>\n",
              "      <td>no</td>\n",
              "      <td>no</td>\n",
              "      <td>Walking</td>\n",
              "      <td>Irbid</td>\n",
              "      <td>2.0</td>\n",
              "      <td>2 times</td>\n",
              "      <td>Never</td>\n",
              "      <td>...</td>\n",
              "      <td>Less than once a week</td>\n",
              "      <td>Not during past month</td>\n",
              "      <td>Not during past month</td>\n",
              "      <td>Less than once a week</td>\n",
              "      <td>Less than once a week</td>\n",
              "      <td>Less than once a week</td>\n",
              "      <td>Not during past month</td>\n",
              "      <td>No problem at all</td>\n",
              "      <td>Very good</td>\n",
              "      <td>Overweight_Level_I</td>\n",
              "    </tr>\n",
              "    <tr>\n",
              "      <th>4</th>\n",
              "      <td>Male</td>\n",
              "      <td>22.0</td>\n",
              "      <td>no</td>\n",
              "      <td>no</td>\n",
              "      <td>no</td>\n",
              "      <td>Public_Transportation</td>\n",
              "      <td>Aqaba</td>\n",
              "      <td>0.0</td>\n",
              "      <td>6 or 7 times</td>\n",
              "      <td>2 times</td>\n",
              "      <td>...</td>\n",
              "      <td>Not during past month</td>\n",
              "      <td>Not during past month</td>\n",
              "      <td>Not during past month</td>\n",
              "      <td>Not during past month</td>\n",
              "      <td>Not during past month</td>\n",
              "      <td>Not during past month</td>\n",
              "      <td>Not during past month</td>\n",
              "      <td>Somewhat of a problem</td>\n",
              "      <td>Fairly bad</td>\n",
              "      <td>Overweight_Level_II</td>\n",
              "    </tr>\n",
              "  </tbody>\n",
              "</table>\n",
              "<p>5 rows × 47 columns</p>\n",
              "</div>\n",
              "    <div class=\"colab-df-buttons\">\n",
              "\n",
              "  <div class=\"colab-df-container\">\n",
              "    <button class=\"colab-df-convert\" onclick=\"convertToInteractive('df-c93790a9-cff8-4687-8191-202ea7a06a65')\"\n",
              "            title=\"Convert this dataframe to an interactive table.\"\n",
              "            style=\"display:none;\">\n",
              "\n",
              "  <svg xmlns=\"http://www.w3.org/2000/svg\" height=\"24px\" viewBox=\"0 -960 960 960\">\n",
              "    <path d=\"M120-120v-720h720v720H120Zm60-500h600v-160H180v160Zm220 220h160v-160H400v160Zm0 220h160v-160H400v160ZM180-400h160v-160H180v160Zm440 0h160v-160H620v160ZM180-180h160v-160H180v160Zm440 0h160v-160H620v160Z\"/>\n",
              "  </svg>\n",
              "    </button>\n",
              "\n",
              "  <style>\n",
              "    .colab-df-container {\n",
              "      display:flex;\n",
              "      gap: 12px;\n",
              "    }\n",
              "\n",
              "    .colab-df-convert {\n",
              "      background-color: #E8F0FE;\n",
              "      border: none;\n",
              "      border-radius: 50%;\n",
              "      cursor: pointer;\n",
              "      display: none;\n",
              "      fill: #1967D2;\n",
              "      height: 32px;\n",
              "      padding: 0 0 0 0;\n",
              "      width: 32px;\n",
              "    }\n",
              "\n",
              "    .colab-df-convert:hover {\n",
              "      background-color: #E2EBFA;\n",
              "      box-shadow: 0px 1px 2px rgba(60, 64, 67, 0.3), 0px 1px 3px 1px rgba(60, 64, 67, 0.15);\n",
              "      fill: #174EA6;\n",
              "    }\n",
              "\n",
              "    .colab-df-buttons div {\n",
              "      margin-bottom: 4px;\n",
              "    }\n",
              "\n",
              "    [theme=dark] .colab-df-convert {\n",
              "      background-color: #3B4455;\n",
              "      fill: #D2E3FC;\n",
              "    }\n",
              "\n",
              "    [theme=dark] .colab-df-convert:hover {\n",
              "      background-color: #434B5C;\n",
              "      box-shadow: 0px 1px 3px 1px rgba(0, 0, 0, 0.15);\n",
              "      filter: drop-shadow(0px 1px 2px rgba(0, 0, 0, 0.3));\n",
              "      fill: #FFFFFF;\n",
              "    }\n",
              "  </style>\n",
              "\n",
              "    <script>\n",
              "      const buttonEl =\n",
              "        document.querySelector('#df-c93790a9-cff8-4687-8191-202ea7a06a65 button.colab-df-convert');\n",
              "      buttonEl.style.display =\n",
              "        google.colab.kernel.accessAllowed ? 'block' : 'none';\n",
              "\n",
              "      async function convertToInteractive(key) {\n",
              "        const element = document.querySelector('#df-c93790a9-cff8-4687-8191-202ea7a06a65');\n",
              "        const dataTable =\n",
              "          await google.colab.kernel.invokeFunction('convertToInteractive',\n",
              "                                                    [key], {});\n",
              "        if (!dataTable) return;\n",
              "\n",
              "        const docLinkHtml = 'Like what you see? Visit the ' +\n",
              "          '<a target=\"_blank\" href=https://colab.research.google.com/notebooks/data_table.ipynb>data table notebook</a>'\n",
              "          + ' to learn more about interactive tables.';\n",
              "        element.innerHTML = '';\n",
              "        dataTable['output_type'] = 'display_data';\n",
              "        await google.colab.output.renderOutput(dataTable, element);\n",
              "        const docLink = document.createElement('div');\n",
              "        docLink.innerHTML = docLinkHtml;\n",
              "        element.appendChild(docLink);\n",
              "      }\n",
              "    </script>\n",
              "  </div>\n",
              "\n",
              "\n",
              "<div id=\"df-fbef11f0-f7f5-447c-ba0d-3425c315e7fe\">\n",
              "  <button class=\"colab-df-quickchart\" onclick=\"quickchart('df-fbef11f0-f7f5-447c-ba0d-3425c315e7fe')\"\n",
              "            title=\"Suggest charts\"\n",
              "            style=\"display:none;\">\n",
              "\n",
              "<svg xmlns=\"http://www.w3.org/2000/svg\" height=\"24px\"viewBox=\"0 0 24 24\"\n",
              "     width=\"24px\">\n",
              "    <g>\n",
              "        <path d=\"M19 3H5c-1.1 0-2 .9-2 2v14c0 1.1.9 2 2 2h14c1.1 0 2-.9 2-2V5c0-1.1-.9-2-2-2zM9 17H7v-7h2v7zm4 0h-2V7h2v10zm4 0h-2v-4h2v4z\"/>\n",
              "    </g>\n",
              "</svg>\n",
              "  </button>\n",
              "\n",
              "<style>\n",
              "  .colab-df-quickchart {\n",
              "      --bg-color: #E8F0FE;\n",
              "      --fill-color: #1967D2;\n",
              "      --hover-bg-color: #E2EBFA;\n",
              "      --hover-fill-color: #174EA6;\n",
              "      --disabled-fill-color: #AAA;\n",
              "      --disabled-bg-color: #DDD;\n",
              "  }\n",
              "\n",
              "  [theme=dark] .colab-df-quickchart {\n",
              "      --bg-color: #3B4455;\n",
              "      --fill-color: #D2E3FC;\n",
              "      --hover-bg-color: #434B5C;\n",
              "      --hover-fill-color: #FFFFFF;\n",
              "      --disabled-bg-color: #3B4455;\n",
              "      --disabled-fill-color: #666;\n",
              "  }\n",
              "\n",
              "  .colab-df-quickchart {\n",
              "    background-color: var(--bg-color);\n",
              "    border: none;\n",
              "    border-radius: 50%;\n",
              "    cursor: pointer;\n",
              "    display: none;\n",
              "    fill: var(--fill-color);\n",
              "    height: 32px;\n",
              "    padding: 0;\n",
              "    width: 32px;\n",
              "  }\n",
              "\n",
              "  .colab-df-quickchart:hover {\n",
              "    background-color: var(--hover-bg-color);\n",
              "    box-shadow: 0 1px 2px rgba(60, 64, 67, 0.3), 0 1px 3px 1px rgba(60, 64, 67, 0.15);\n",
              "    fill: var(--button-hover-fill-color);\n",
              "  }\n",
              "\n",
              "  .colab-df-quickchart-complete:disabled,\n",
              "  .colab-df-quickchart-complete:disabled:hover {\n",
              "    background-color: var(--disabled-bg-color);\n",
              "    fill: var(--disabled-fill-color);\n",
              "    box-shadow: none;\n",
              "  }\n",
              "\n",
              "  .colab-df-spinner {\n",
              "    border: 2px solid var(--fill-color);\n",
              "    border-color: transparent;\n",
              "    border-bottom-color: var(--fill-color);\n",
              "    animation:\n",
              "      spin 1s steps(1) infinite;\n",
              "  }\n",
              "\n",
              "  @keyframes spin {\n",
              "    0% {\n",
              "      border-color: transparent;\n",
              "      border-bottom-color: var(--fill-color);\n",
              "      border-left-color: var(--fill-color);\n",
              "    }\n",
              "    20% {\n",
              "      border-color: transparent;\n",
              "      border-left-color: var(--fill-color);\n",
              "      border-top-color: var(--fill-color);\n",
              "    }\n",
              "    30% {\n",
              "      border-color: transparent;\n",
              "      border-left-color: var(--fill-color);\n",
              "      border-top-color: var(--fill-color);\n",
              "      border-right-color: var(--fill-color);\n",
              "    }\n",
              "    40% {\n",
              "      border-color: transparent;\n",
              "      border-right-color: var(--fill-color);\n",
              "      border-top-color: var(--fill-color);\n",
              "    }\n",
              "    60% {\n",
              "      border-color: transparent;\n",
              "      border-right-color: var(--fill-color);\n",
              "    }\n",
              "    80% {\n",
              "      border-color: transparent;\n",
              "      border-right-color: var(--fill-color);\n",
              "      border-bottom-color: var(--fill-color);\n",
              "    }\n",
              "    90% {\n",
              "      border-color: transparent;\n",
              "      border-bottom-color: var(--fill-color);\n",
              "    }\n",
              "  }\n",
              "</style>\n",
              "\n",
              "  <script>\n",
              "    async function quickchart(key) {\n",
              "      const quickchartButtonEl =\n",
              "        document.querySelector('#' + key + ' button');\n",
              "      quickchartButtonEl.disabled = true;  // To prevent multiple clicks.\n",
              "      quickchartButtonEl.classList.add('colab-df-spinner');\n",
              "      try {\n",
              "        const charts = await google.colab.kernel.invokeFunction(\n",
              "            'suggestCharts', [key], {});\n",
              "      } catch (error) {\n",
              "        console.error('Error during call to suggestCharts:', error);\n",
              "      }\n",
              "      quickchartButtonEl.classList.remove('colab-df-spinner');\n",
              "      quickchartButtonEl.classList.add('colab-df-quickchart-complete');\n",
              "    }\n",
              "    (() => {\n",
              "      let quickchartButtonEl =\n",
              "        document.querySelector('#df-fbef11f0-f7f5-447c-ba0d-3425c315e7fe button');\n",
              "      quickchartButtonEl.style.display =\n",
              "        google.colab.kernel.accessAllowed ? 'block' : 'none';\n",
              "    })();\n",
              "  </script>\n",
              "</div>\n",
              "\n",
              "    </div>\n",
              "  </div>\n"
            ],
            "application/vnd.google.colaboratory.intrinsic+json": {
              "type": "dataframe",
              "variable_name": "df"
            }
          },
          "metadata": {},
          "execution_count": 3
        }
      ]
    },
    {
      "cell_type": "code",
      "source": [
        "df.info()"
      ],
      "metadata": {
        "id": "VlnEBNv4qWdw",
        "colab": {
          "base_uri": "https://localhost:8080/"
        },
        "outputId": "b79125f4-cc3a-49f2-8964-ed784be05044"
      },
      "execution_count": null,
      "outputs": [
        {
          "output_type": "stream",
          "name": "stdout",
          "text": [
            "<class 'pandas.core.frame.DataFrame'>\n",
            "RangeIndex: 999 entries, 0 to 998\n",
            "Data columns (total 47 columns):\n",
            " #   Column                                                                                                                                                                                                         Non-Null Count  Dtype  \n",
            "---  ------                                                                                                                                                                                                         --------------  -----  \n",
            " 0   Gender                                                                                                                                                                                                         999 non-null    object \n",
            " 1   Age                                                                                                                                                                                                            999 non-null    float64\n",
            " 2   family_history_with_overweight                                                                                                                                                                                 999 non-null    object \n",
            " 3   Do you eat any food between meals                                                                                                                                                                              999 non-null    object \n",
            " 4   SMOKE                                                                                                                                                                                                          999 non-null    object \n",
            " 5   Which transportation do you usually use?                                                                                                                                                                       999 non-null    object \n",
            " 6   City                                                                                                                                                                                                           999 non-null    object \n",
            " 7   How often do you have physical activity?                                                                                                                                                                       999 non-null    float64\n",
            " 8   In the past 7 days, how many times did you eat breakfast?                                                                                                                                                      977 non-null    object \n",
            " 9   On an average week, how many times do you consume whole grain products? (e.g., whole grain bread, whole grain cereal, brown rice or whole wheat pasta                                                          979 non-null    object \n",
            " 10  On an average week, how many times do you consume dairy products?(e.g., milk, cheese, yogurt …etc.)                                                                                                            978 non-null    object \n",
            " 11  On an average week, how many times do you consume coffee or other sources of caffeine?(e.g., soda, tea, chocolate, energy drink …etc.)                                                                         976 non-null    object \n",
            " 12  On an average week, how many times do you consume fish and/or shellfish (including sardines and tuna)?                                                                                                         980 non-null    object \n",
            " 13  1. I tend to bounce back quickly after hard times                                                                                                                                                              990 non-null    float64\n",
            " 14  2. I have a hard time making it through stressful events                                                                                                                                                       989 non-null    float64\n",
            " 15  3. It does not take me long to recover from a stressful event.                                                                                                                                                 989 non-null    float64\n",
            " 16  4. It is hard for me to snap back when something bad happens.                                                                                                                                                  988 non-null    float64\n",
            " 17  5. I usually come through difficult times with little trouble.                                                                                                                                                 990 non-null    float64\n",
            " 18  6. I tend to take a long time to get over set-backs in my life.                                                                                                                                                989 non-null    float64\n",
            " 19  In the last month, how often have you been upset because of something that happened unexpectedly?                                                                                                              979 non-null    object \n",
            " 20  In the last month, how often have you felt that you were unable to control the important things in your life?                                                                                                  978 non-null    object \n",
            " 21  In the last month, how often have you felt nervous and stressed?                                                                                                                                               978 non-null    object \n",
            " 22  In the last month, how often have you felt confident about your ability to handle your personal problems?                                                                                                      974 non-null    object \n",
            " 23  In the last month, how often have you felt that things were going your way?                                                                                                                                    973 non-null    object \n",
            " 24  In the last month, how often have you found that you could not cope with all the things that you had to do?                                                                                                    974 non-null    object \n",
            " 25  In the last month, how often have you been angered because of things that happened that were outside of your control?                                                                                          974 non-null    object \n",
            " 26  In the last month, how often have you felt difficulties were piling up so high that you could not overcome them?                                                                                               976 non-null    object \n",
            " 27  About how often during the past 30 days did you feel nervous - would you say Very Often of the time, Fairly Often of the time, Sometimes of the time, AlFairly Often never of the time, or Never of the time?  978 non-null    object \n",
            " 28  During the past 30 days, about how often did you feel hopeless - Very Often of the time, Fairly Often of the time, Sometimes of the time, AlFairly Often never of the time, or Never of the time?              976 non-null    object \n",
            " 29  During the past month, what time have you usually gone to bed at night?                                                                                                                                        990 non-null    object \n",
            " 30  During the past month, how long (in minutes) has it usually taken you to fall asleep each night?                                                                                                               989 non-null    float64\n",
            " 31  During the past month, what time have you usually gotten up in the morning?                                                                                                                                    989 non-null    object \n",
            " 32  During the past month, how many hours of actual sleep did you get at night?                                                                                                                                    990 non-null    float64\n",
            " 33  a. Cannot get to sleep within 30 minutes                                                                                                                                                                       980 non-null    object \n",
            " 34  b. Wake up in the middle of the night or early morning                                                                                                                                                         982 non-null    object \n",
            " 35  c. Have to get up to use the bathroom                                                                                                                                                                          990 non-null    object \n",
            " 36  d. Cannot breathe comfortably                                                                                                                                                                                  979 non-null    object \n",
            " 37  e. Cough or snore loudly                                                                                                                                                                                       981 non-null    object \n",
            " 38  f. Feel too cold                                                                                                                                                                                               980 non-null    object \n",
            " 39  g. Feel too hot                                                                                                                                                                                                980 non-null    object \n",
            " 40  h. Have bad dreams                                                                                                                                                                                             978 non-null    object \n",
            " 41  i. Have pain                                                                                                                                                                                                   979 non-null    object \n",
            " 42  During the past month, how often have you taken medicine to help you sleep                                                                                                                                     968 non-null    object \n",
            " 43  During the past month, how often have you had trouble staying awake while driving, eating meals, or engaging in social activity?                                                                               991 non-null    object \n",
            " 44  During the past month, how much of a problem has it been for you to keep up enough enthusiasm to get things done?                                                                                              985 non-null    object \n",
            " 45  During the past month, how would you rate your sleep quality overall?                                                                                                                                          996 non-null    object \n",
            " 46  Obesity Indicator                                                                                                                                                                                              999 non-null    object \n",
            "dtypes: float64(10), object(37)\n",
            "memory usage: 366.9+ KB\n"
          ]
        }
      ]
    },
    {
      "cell_type": "markdown",
      "source": [
        "# Demographic and Lifestyle Factors"
      ],
      "metadata": {
        "id": "DMB138k9GxO4"
      }
    },
    {
      "cell_type": "code",
      "source": [
        "df = df.rename(columns={'Which transportation do you usually use?': 'transportation',\n",
        "                        'How often do you have physical activity?': 'physical activity',\n",
        "                        'In the past 7 days, how many times did you eat breakfast?': 'breakfast',\n",
        "                        'On an average week, how many times do you consume whole grain products? (e.g., whole grain bread, whole grain cereal, brown rice or whole wheat pasta': 'whole grain products',\n",
        "                        'On an average week, how many times do you consume dairy products?(e.g., milk, cheese, yogurt …etc.)': 'dairy products',\n",
        "                        'On an average week, how many times do you consume coffee or other sources of caffeine?(e.g., soda, tea, chocolate, energy drink …etc.)': 'caffeine',\n",
        "                        'On an average week, how many times do you consume fish and/or shellfish (including sardines and tuna)?': 'fish'})"
      ],
      "metadata": {
        "id": "3OJ4YoRjG_mw"
      },
      "execution_count": null,
      "outputs": []
    },
    {
      "cell_type": "code",
      "source": [
        "columns= ['Gender', 'Age', 'family_history_with_overweight', 'SMOKE', 'transportation', 'City', 'physical activity', 'breakfast', 'whole grain products', 'dairy products', 'caffeine', 'fish']\n",
        "\n",
        "nulls = {}\n",
        "for c in columns:\n",
        "  nulls[c] = df[c].isnull().any()\n",
        "\n",
        "print(nulls)"
      ],
      "metadata": {
        "colab": {
          "base_uri": "https://localhost:8080/"
        },
        "id": "z1ZnhGtfG_pY",
        "outputId": "acee1ea0-902e-4e73-833b-d5a99001ca95"
      },
      "execution_count": null,
      "outputs": [
        {
          "output_type": "stream",
          "name": "stdout",
          "text": [
            "{'Gender': False, 'Age': False, 'family_history_with_overweight': False, 'SMOKE': False, 'transportation': False, 'City': False, 'physical activity': False, 'breakfast': True, 'whole grain products': True, 'dairy products': True, 'caffeine': True, 'fish': True}\n"
          ]
        }
      ]
    },
    {
      "cell_type": "code",
      "source": [
        "columns = ['breakfast', 'whole grain products', 'dairy products', 'caffeine', 'fish']\n",
        "\n",
        "for column in columns:\n",
        "  modeVal = df[column].mode()[0]\n",
        "  df[column].fillna(modeVal, inplace=True)"
      ],
      "metadata": {
        "id": "1X9gFwZuG_s4"
      },
      "execution_count": null,
      "outputs": []
    },
    {
      "cell_type": "markdown",
      "source": [
        "# Resilience Scale (RS)"
      ],
      "metadata": {
        "id": "iBnXUlEq6HSQ"
      }
    },
    {
      "cell_type": "code",
      "source": [
        "df = df.rename(columns={'1. I tend to bounce back quickly after hard times': 'R1',\n",
        "                        '2. I have a hard time making it through stressful events': 'R2',\n",
        "                        '3. It does not take me long to recover from a stressful event. ': 'R3',\n",
        "                        '4. It is hard for me to snap back when something bad happens.': 'R4',\n",
        "                        '5. I usually come through difficult times with little trouble. ': 'R5',\n",
        "                        '6. I tend to take a long time to get over set-backs in my life.': 'R6'})"
      ],
      "metadata": {
        "id": "yFw3nshdFHQj"
      },
      "execution_count": null,
      "outputs": []
    },
    {
      "cell_type": "code",
      "source": [
        "columns= ['R1', 'R2', 'R3', 'R4', 'R5', 'R6']\n",
        "\n",
        "for column in columns:\n",
        "  modeVal = df[column].mode()[0]\n",
        "  df[column].fillna(modeVal, inplace=True)"
      ],
      "metadata": {
        "id": "N1XtyHzC7eC5"
      },
      "execution_count": null,
      "outputs": []
    },
    {
      "cell_type": "code",
      "source": [
        "columns= ['R1', 'R2', 'R3', 'R4', 'R5', 'R6']\n",
        "\n",
        "df['Resilience_Level'] = pd.cut(df[columns].sum(axis=1), bins=[6, 13, 21, 30], labels=['Low resilience', 'Normal resilience', 'High resilience'])"
      ],
      "metadata": {
        "id": "sgfCRfqY6asA"
      },
      "execution_count": null,
      "outputs": []
    },
    {
      "cell_type": "markdown",
      "source": [
        "# Mental Distress"
      ],
      "metadata": {
        "id": "VVYAhnUs8DLo"
      }
    },
    {
      "cell_type": "code",
      "source": [
        "df = df.rename(columns={'In the last month, how often have you been upset because of something that happened unexpectedly?': 'M1',\n",
        "                        'In the last month, how often have you felt that you were unable to control the important things in your life?': 'M2',\n",
        "                        'In the last month, how often have you felt nervous and stressed?':'M3',\n",
        "                        'In the last month, how often have you felt confident about your ability to handle your personal problems?':'M4',\n",
        "                        'In the last month, how often have you felt that things were going your way?':'M5',\n",
        "                        'In the last month, how often have you found that you could not cope with all the things that you had to do?':'M6',\n",
        "                        'In the last month, how often have you been angered because of things that happened that were outside of your control?':'M7',\n",
        "                        'In the last month, how often have you felt difficulties were piling up so high that you could not overcome them?':'M8',\n",
        "                        'About how often during the past 30 days did you feel nervous - would you say Very Often of the time, Fairly Often of the time, Sometimes of the time, AlFairly Often never of the time, or Never of the time?':'M9',\n",
        "                        'During the past 30 days, about how often did you feel hopeless - Very Often of the time, Fairly Often of the time, Sometimes of the time, AlFairly Often never of the time, or Never of the time?':'M10'})"
      ],
      "metadata": {
        "id": "-KNNbPBC6ayD"
      },
      "execution_count": null,
      "outputs": []
    },
    {
      "cell_type": "code",
      "source": [
        "columns= ['M1', 'M2', 'M3', 'M4', 'M5', 'M6', 'M7', 'M8', 'M9', 'M10']\n",
        "\n",
        "for column in columns :\n",
        "  modeVal = df[column].mode()[0]\n",
        "  df[column].fillna(modeVal, inplace=True)"
      ],
      "metadata": {
        "id": "iILGb7zZ6a3z"
      },
      "execution_count": null,
      "outputs": []
    },
    {
      "cell_type": "code",
      "source": [
        "columns= ['M1', 'M2', 'M3', 'M4', 'M5', 'M6', 'M7', 'M8']\n",
        "replacing1 = {'Fairly Often':'Fairly often'}\n",
        "\n",
        "for column in columns :\n",
        "  df[column] = df[column].replace(replacing1)\n",
        "\n",
        "\n",
        "replacing2 = {'AlFairly Often never','Fairly Often never'}\n",
        "\n",
        "df['M9'] = df['M9'].replace(replacing2)\n",
        "df['M10'] = df['M10'].replace(replacing2)"
      ],
      "metadata": {
        "colab": {
          "base_uri": "https://localhost:8080/"
        },
        "id": "MikpXLHx_5hw",
        "outputId": "7ab7a503-2dea-4714-964a-69d346f38583"
      },
      "execution_count": null,
      "outputs": [
        {
          "output_type": "stream",
          "name": "stderr",
          "text": [
            "<ipython-input-35-110b04f422d8>:10: FutureWarning: Series.replace without 'value' and with non-dict-like 'to_replace' is deprecated and will raise in a future version. Explicitly specify the new values instead.\n",
            "  df['M9'] = df['M9'].replace(replacing2)\n",
            "<ipython-input-35-110b04f422d8>:11: FutureWarning: Series.replace without 'value' and with non-dict-like 'to_replace' is deprecated and will raise in a future version. Explicitly specify the new values instead.\n",
            "  df['M10'] = df['M10'].replace(replacing2)\n"
          ]
        }
      ]
    },
    {
      "cell_type": "code",
      "source": [
        "columns= ['M1', 'M2', 'M3', 'M4', 'M5', 'M6', 'M7', 'M8']\n",
        "mapping1 = {'Never': 1, 'Almost never': 2, 'Sometimes': 3, 'Fairly often': 4,'Very often':5}\n",
        "\n",
        "for column in columns :\n",
        "  df[column] = df[column].replace(mapping1)\n",
        "\n",
        "\n",
        "mapping2={'Fairly Often never': 1, 'Never': 2, 'Sometimes': 3, 'Fairly Often': 4, 'Very Often': 5}\n",
        "\n",
        "df['M9'] = df['M9'].replace(mapping2)\n",
        "df['M10'] = df['M10'].replace(mapping2)"
      ],
      "metadata": {
        "id": "Iv_YTmSa6a6r"
      },
      "execution_count": null,
      "outputs": []
    },
    {
      "cell_type": "code",
      "source": [
        "columns= ['M1', 'M2', 'M3', 'M4', 'M5', 'M6', 'M7', 'M8', 'M9', 'M10']\n",
        "df[columns] = df[columns].apply(pd.to_numeric, errors='coerce')\n",
        "\n",
        "def classify(score):\n",
        "    if 10 <= score <= 19:\n",
        "      return 'Likely to be well'\n",
        "    elif 20 <= score <= 29:\n",
        "      return 'Likely to have a moderate disorder'\n",
        "    elif 30 <= score <= 50:\n",
        "      return 'Likely to have a severe disorder'\n",
        "    else:\n",
        "      return 'Score out of range'\n",
        "\n",
        "df['Total Score'] = df['M1'] + df['M2'] + df['M3'] + df['M4'] + df['M5'] + df['M6'] + df['M7'] + df['M8'] + df['M9'] + df['M10']\n",
        "df['Mental Distress Level'] = df['Total Score'].apply(classify)"
      ],
      "metadata": {
        "id": "4E1WVPbGDhNE"
      },
      "execution_count": null,
      "outputs": []
    },
    {
      "cell_type": "code",
      "source": [
        "mapping4={'Likely to have a severe disorder':3,'Likely to have a moderate disorder':2,'Likely to be well':1}\n",
        "df['Mental Distress Level'] = df['Mental Distress Level'].replace(mapping4)"
      ],
      "metadata": {
        "id": "VRRqm8AeF86S"
      },
      "execution_count": null,
      "outputs": []
    },
    {
      "cell_type": "markdown",
      "source": [
        "# Pittsburgh Sleep Quality Index (PSQI)"
      ],
      "metadata": {
        "id": "wibwPfAFEZ3x"
      }
    },
    {
      "cell_type": "code",
      "source": [
        "df = df.rename(columns={'During the past month, what time have you usually gone to bed at night?': 'q1',\n",
        "                        'During the past month, how long (in minutes) has it usually taken you to fall asleep each night?': 'q2',\n",
        "                        'During the past month, what time have you usually gotten up in the morning?': 'q3',\n",
        "                        'During the past month, how many hours of actual sleep did you get at night?': 'q4',\n",
        "                        'a. Cannot get to sleep within 30 minutes': '5a',\n",
        "                        'b. Wake up in the middle of the night or early morning': '5b',\n",
        "                        'c. Have to get up to use the bathroom': '5c',\n",
        "                        'd. Cannot breathe comfortably': '5d',\n",
        "                        'e. Cough or snore loudly': '5e',\n",
        "                        'f. Feel too cold': '5f',\n",
        "                        'g. Feel too hot': '5g',\n",
        "                        'h. Have bad dreams': '5h',\n",
        "                        'i. Have pain': '5i',\n",
        "                        'During the past month, how often have you taken medicine to help you sleep': 'q6',\n",
        "                        'During the past month, how often have you had trouble staying awake while driving, eating meals, or engaging in social activity?': 'q7',\n",
        "                        'During the past month, how much of a problem has it been for you to keep up enough enthusiasm to get things done?': 'q8',\n",
        "                        'During the past month, how would you rate your sleep quality overall?': 'q9'})"
      ],
      "metadata": {
        "id": "7WcAP_1LIYv3"
      },
      "execution_count": null,
      "outputs": []
    },
    {
      "cell_type": "code",
      "source": [
        "columns= ['q1', 'q2', 'q3', 'q4', '5a', '5b', '5c', '5d', '5e', '5f','5g', '5h', '5i', 'q6', 'q7', 'q8','q9']\n",
        "\n",
        "nulls = {}\n",
        "for c in columns:\n",
        "  nulls[c] = df[c].isnull().any()\n",
        "\n",
        "print(nulls)"
      ],
      "metadata": {
        "colab": {
          "base_uri": "https://localhost:8080/"
        },
        "id": "knaNfqIQIY1T",
        "outputId": "56f3af26-51c0-4d86-fe61-99d7dba6f2a9"
      },
      "execution_count": null,
      "outputs": [
        {
          "output_type": "stream",
          "name": "stdout",
          "text": [
            "{'q1': True, 'q2': True, 'q3': True, 'q4': True, '5a': True, '5b': True, '5c': True, '5d': True, '5e': True, '5f': True, '5g': True, '5h': True, '5i': True, 'q6': True, 'q7': True, 'q8': True, 'q9': True}\n"
          ]
        }
      ]
    },
    {
      "cell_type": "code",
      "source": [
        "columns= ['q1', 'q3', '5a', '5b', '5c', '5d', '5e', '5f','5g', '5h', '5i', 'q6', 'q7', 'q8','q9']\n",
        "\n",
        "for column in columns:\n",
        "  modeVal = df[column].mode()[0]\n",
        "  df[column].fillna(modeVal, inplace=True)"
      ],
      "metadata": {
        "id": "2HPSllcx74C5"
      },
      "execution_count": null,
      "outputs": []
    },
    {
      "cell_type": "code",
      "source": [
        "df['q2'] = df['q2'].astype(float)\n",
        "df['q2'].fillna(df['q2'].mean(), inplace=True)"
      ],
      "metadata": {
        "id": "xbxDmuf3AFkU"
      },
      "execution_count": null,
      "outputs": []
    },
    {
      "cell_type": "code",
      "source": [
        "df['q4'] = df['q4'].astype(float)\n",
        "df['q4'].fillna(df['q4'].mean(), inplace=True)"
      ],
      "metadata": {
        "id": "P-RTMmgC-5XI"
      },
      "execution_count": null,
      "outputs": []
    },
    {
      "cell_type": "code",
      "source": [
        "columns= ['q1', 'q2', 'q3', 'q4', '5a', '5b', '5c', '5d', '5e', '5f','5g', '5h', '5i', 'q6', 'q7', 'q8','q9']\n",
        "\n",
        "nulls = {}\n",
        "for c in columns:\n",
        "  nulls[c] = df[c].isnull().any()\n",
        "\n",
        "print(nulls)"
      ],
      "metadata": {
        "colab": {
          "base_uri": "https://localhost:8080/"
        },
        "id": "K55AE9Qu8f30",
        "outputId": "f7766d59-ae95-4b7c-d7b8-fda1a20a18ed"
      },
      "execution_count": null,
      "outputs": [
        {
          "output_type": "stream",
          "name": "stdout",
          "text": [
            "{'q1': False, 'q2': False, 'q3': False, 'q4': False, '5a': False, '5b': False, '5c': False, '5d': False, '5e': False, '5f': False, '5g': False, '5h': False, '5i': False, 'q6': False, 'q7': False, 'q8': False, 'q9': False}\n"
          ]
        }
      ]
    },
    {
      "cell_type": "code",
      "source": [
        "columns= ['5a', '5b', '5c', '5d', '5e', '5f','5g', '5h', '5i', 'q6', 'q7', 'q8','q9']\n",
        "\n",
        "nulls = {}\n",
        "for c in columns:\n",
        "  df[c] = df[c].str.strip()"
      ],
      "metadata": {
        "id": "4NB-aaqRQHGP"
      },
      "execution_count": null,
      "outputs": []
    },
    {
      "cell_type": "code",
      "source": [
        "def map_q2(value):\n",
        "\n",
        "  if value <= 15.0:\n",
        "    return 0.0\n",
        "  elif 16.0 <= value <= 30.0:\n",
        "    return 1\n",
        "  elif 31.0 <= value <= 60.0:\n",
        "    return 2.0\n",
        "  else:\n",
        "    return 3.0\n",
        "\n",
        "df['q2'] = df['q2'].apply(map_q2)\n",
        "\n",
        "def map_q4(value):\n",
        "\n",
        "  if value > 7.0:\n",
        "    return 0\n",
        "  elif 6.0 <= value <= 7.0:\n",
        "    return 1\n",
        "  elif 5.0 <= value <= 6.0:\n",
        "    return 2\n",
        "  else:\n",
        "    return 3\n",
        "\n",
        "df['q4'] = df['q4'].apply(map_q4)\n",
        "\n",
        "\n",
        "mapping = {\n",
        "    'Not during past month': 0,\n",
        "    'Less than once a week': 1,\n",
        "    'Once or twice a week': 2,\n",
        "    'Three or more times a week': 3\n",
        "}\n",
        "\n",
        "columns2 = ['5a', '5b', '5c', '5d', '5e', '5f', '5g', '5h', '5i', 'q6', 'q7']\n",
        "\n",
        "for column in columns2:\n",
        "    df[column] = df[column].replace(mapping)\n",
        "\n",
        "mapping8 = {'No problem at all': 0, 'Only a very slight problem': 1, 'Somewhat of a problem': 2, 'A very big problem': 3}\n",
        "df['q8'] = df['q8'].replace(mapping8)\n",
        "\n",
        "mapping9 = {'Very good': 0, 'Fairly good': 1, 'Fairly bad': 2, 'Very bad': 3}\n",
        "df['q9'] = df['q9'].replace(mapping9)"
      ],
      "metadata": {
        "id": "p2R8E8SeIY3w"
      },
      "execution_count": null,
      "outputs": []
    },
    {
      "cell_type": "code",
      "source": [
        "df['q1'] = pd.to_datetime(df['q1'], format='%H:%M:%S').dt.time\n",
        "df['q3'] = pd.to_datetime(df['q3'], format='%H:%M:%S').dt.time\n",
        "\n",
        "df['q1'] = pd.to_timedelta(df['q1'].astype(str))\n",
        "df['q3'] = pd.to_timedelta(df['q3'].astype(str))\n",
        "\n",
        "df['q3'] = df['q3'] + pd.to_timedelta((df['q3'] < df['q1']).astype(int) * 24, unit='H')\n",
        "\n",
        "df['hours_in_bed'] = (df['q3'] - df['q1']).dt.total_seconds() / 3600"
      ],
      "metadata": {
        "id": "9vphaG10D9d3"
      },
      "execution_count": null,
      "outputs": []
    },
    {
      "cell_type": "code",
      "source": [
        "df['Sleep_efficiency'] = (df['q4'] / df['hours_in_bed']) * 100\n",
        "\n",
        "def map_Sleep_efficiency(value):\n",
        "\n",
        "  if value > 85.00:\n",
        "    return 0\n",
        "  elif 75.00 <= value <= 84.00:\n",
        "    return 1\n",
        "  elif 65.00 <= value <= 74.00:\n",
        "    return 2\n",
        "  elif  value < 65.00:\n",
        "    return 3\n",
        "\n",
        "df['Sleep_efficiency'] = df['Sleep_efficiency'].apply(map_Sleep_efficiency)"
      ],
      "metadata": {
        "id": "MnVC-lGaLnUw"
      },
      "execution_count": null,
      "outputs": []
    },
    {
      "cell_type": "code",
      "source": [
        "df['sum_q2_5a'] = df['q2'] + df['5a']\n",
        "\n",
        "def map_sum_q2_5a(value):\n",
        "\n",
        "  if value == 0.0:\n",
        "    return 0.0\n",
        "  elif 1.0 <= value <= 2.0:\n",
        "    return 1.0\n",
        "  elif 3.0 <= value <= 4.0:\n",
        "    return 2.0\n",
        "  elif 5.0 <= value <= 6.0:\n",
        "    return 3.0\n",
        "\n",
        "df['sum_q2_5a'] = df['sum_q2_5a'].apply(map_sum_q2_5a)"
      ],
      "metadata": {
        "id": "mknJu3_OIY-r"
      },
      "execution_count": null,
      "outputs": []
    },
    {
      "cell_type": "code",
      "source": [
        "df['sum_5bTO5i'] = df['5b'] + df['5c'] + df['5d'] + df['5e'] + df['5f'] + df['5g'] + df['5h'] + df['5i']\n",
        "\n",
        "def map_sum_5bTO5i(value):\n",
        "\n",
        "  if value == 0.0:\n",
        "    return 0.0\n",
        "  elif 1.0 <= value <= 9.0:\n",
        "    return 1.0\n",
        "  elif 10.0 <= value <= 18.0:\n",
        "    return 2.0\n",
        "  elif 19.0 <= value <= 27.0:\n",
        "    return 3.0\n",
        "\n",
        "df['sum_5bTO5i'] = df['sum_5bTO5i'].apply(map_sum_5bTO5i)"
      ],
      "metadata": {
        "id": "_nK18DHCS676"
      },
      "execution_count": null,
      "outputs": []
    },
    {
      "cell_type": "code",
      "source": [
        "df['sum_q7_q8'] = df['q7'] + df['q8']\n",
        "\n",
        "def map_sum_q7_q8(value):\n",
        "\n",
        "  if value == 0.0:\n",
        "    return 0.0\n",
        "  elif 1.0 <= value <= 2.0:\n",
        "    return 1.0\n",
        "  elif 3.0 <= value <= 4.0:\n",
        "    return 2.0\n",
        "  elif 5.0 <= value <= 6.0:\n",
        "    return 3.0\n",
        "\n",
        "df['sum_q7_q8'] = df['sum_q7_q8'].apply(map_sum_q7_q8)"
      ],
      "metadata": {
        "id": "Xqnli5jaS7AV"
      },
      "execution_count": null,
      "outputs": []
    },
    {
      "cell_type": "code",
      "source": [
        "df['Global_PSQI'] = df['Sleep_efficiency'] + df['q9'] + df['sum_q2_5a'] + df['q4'] + df['sum_5bTO5i'] + df['q6'] + df['sum_q7_q8']"
      ],
      "metadata": {
        "id": "Y_bFg--9IZGs"
      },
      "execution_count": null,
      "outputs": []
    },
    {
      "cell_type": "code",
      "source": [
        "def map_Global_PSQI(value):\n",
        "\n",
        "  if 5.0 <= value <= 21.0:\n",
        "    return 'poor'\n",
        "  elif 0.0 <= value <= 4.0:\n",
        "    return 'good'\n",
        "\n",
        "df['Global_PSQI'] = df['Global_PSQI'].apply(map_Global_PSQI)"
      ],
      "metadata": {
        "id": "so6lSlS2P6VE"
      },
      "execution_count": null,
      "outputs": []
    },
    {
      "cell_type": "code",
      "source": [
        "df['Obesity Indicator'].unique()"
      ],
      "metadata": {
        "colab": {
          "base_uri": "https://localhost:8080/"
        },
        "id": "BsG1TLHHKOwm",
        "outputId": "5ce53908-445f-4c90-a3d9-d56e49790f72"
      },
      "execution_count": null,
      "outputs": [
        {
          "output_type": "execute_result",
          "data": {
            "text/plain": [
              "array(['Normal_Weight', 'Overweight_Level_I', 'Overweight_Level_II',\n",
              "       'Obesity_Type_I', 'Insufficient_Weight', 'Obesity_Type_II',\n",
              "       'Obesity_Type_III'], dtype=object)"
            ]
          },
          "metadata": {},
          "execution_count": 41
        }
      ]
    },
    {
      "cell_type": "code",
      "source": [
        "mapping4={'Normal_Weight':3, 'Overweight_Level_I':2, 'Overweight_Level_II':1, 'Obesity_Type_I':3, 'Insufficient_Weight':2, 'Obesity_Type_II':1, 'Obesity_Type_III':1}\n",
        "df['Obesity Indicator'] = df['Obesity Indicator'].replace(mapping4)"
      ],
      "metadata": {
        "id": "wi8a1YXbKMur"
      },
      "execution_count": null,
      "outputs": []
    },
    {
      "cell_type": "code",
      "source": [
        "df.to_csv(\"DV.csv\", index=False)"
      ],
      "metadata": {
        "id": "CejyPW6JPnwc"
      },
      "execution_count": null,
      "outputs": []
    },
    {
      "cell_type": "code",
      "source": [
        "df.info()"
      ],
      "metadata": {
        "colab": {
          "base_uri": "https://localhost:8080/"
        },
        "id": "dFxA7QmqGZWe",
        "outputId": "dc0cecc0-56ae-4e09-becb-0ee295ddfafd"
      },
      "execution_count": null,
      "outputs": [
        {
          "output_type": "stream",
          "name": "stdout",
          "text": [
            "<class 'pandas.core.frame.DataFrame'>\n",
            "RangeIndex: 999 entries, 0 to 998\n",
            "Data columns (total 56 columns):\n",
            " #   Column                             Non-Null Count  Dtype          \n",
            "---  ------                             --------------  -----          \n",
            " 0   Gender                             999 non-null    object         \n",
            " 1   Age                                999 non-null    float64        \n",
            " 2   family_history_with_overweight     999 non-null    object         \n",
            " 3   Do you eat any food between meals  999 non-null    object         \n",
            " 4   SMOKE                              999 non-null    object         \n",
            " 5   transportation                     999 non-null    object         \n",
            " 6   City                               999 non-null    object         \n",
            " 7   physical activity                  999 non-null    float64        \n",
            " 8   breakfast                          999 non-null    object         \n",
            " 9   whole grain products               999 non-null    object         \n",
            " 10  dairy products                     999 non-null    object         \n",
            " 11  caffeine                           999 non-null    object         \n",
            " 12  fish                               999 non-null    object         \n",
            " 13  R1                                 999 non-null    float64        \n",
            " 14  R2                                 999 non-null    float64        \n",
            " 15  R3                                 999 non-null    float64        \n",
            " 16  R4                                 999 non-null    float64        \n",
            " 17  R5                                 999 non-null    float64        \n",
            " 18  R6                                 999 non-null    float64        \n",
            " 19  M1                                 999 non-null    int64          \n",
            " 20  M2                                 999 non-null    int64          \n",
            " 21  M3                                 999 non-null    int64          \n",
            " 22  M4                                 999 non-null    int64          \n",
            " 23  M5                                 999 non-null    int64          \n",
            " 24  M6                                 999 non-null    int64          \n",
            " 25  M7                                 999 non-null    float64        \n",
            " 26  M8                                 999 non-null    int64          \n",
            " 27  M9                                 999 non-null    float64        \n",
            " 28  M10                                999 non-null    float64        \n",
            " 29  q1                                 999 non-null    timedelta64[ns]\n",
            " 30  q2                                 999 non-null    float64        \n",
            " 31  q3                                 999 non-null    timedelta64[ns]\n",
            " 32  q4                                 999 non-null    int64          \n",
            " 33  5a                                 999 non-null    int64          \n",
            " 34  5b                                 999 non-null    int64          \n",
            " 35  5c                                 999 non-null    int64          \n",
            " 36  5d                                 999 non-null    int64          \n",
            " 37  5e                                 999 non-null    int64          \n",
            " 38  5f                                 999 non-null    int64          \n",
            " 39  5g                                 999 non-null    int64          \n",
            " 40  5h                                 999 non-null    int64          \n",
            " 41  5i                                 999 non-null    int64          \n",
            " 42  q6                                 999 non-null    int64          \n",
            " 43  q7                                 999 non-null    int64          \n",
            " 44  q8                                 999 non-null    int64          \n",
            " 45  q9                                 999 non-null    int64          \n",
            " 46  Obesity Indicator                  999 non-null    object         \n",
            " 47  Resilience_Level                   999 non-null    category       \n",
            " 48  Total Score                        999 non-null    float64        \n",
            " 49  Mental Distress Level              999 non-null    int64          \n",
            " 50  hours_in_bed                       999 non-null    float64        \n",
            " 51  Sleep_efficiency                   999 non-null    int64          \n",
            " 52  sum_q2_5a                          999 non-null    float64        \n",
            " 53  sum_5bTO5i                         999 non-null    float64        \n",
            " 54  sum_q7_q8                          999 non-null    float64        \n",
            " 55  Global_PSQI                        999 non-null    object         \n",
            "dtypes: category(1), float64(17), int64(23), object(13), timedelta64[ns](2)\n",
            "memory usage: 430.5+ KB\n"
          ]
        }
      ]
    }
  ]
}